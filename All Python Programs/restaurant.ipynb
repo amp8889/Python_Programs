{
 "cells": [
  {
   "cell_type": "code",
   "execution_count": 4,
   "id": "a98fcc9e",
   "metadata": {},
   "outputs": [],
   "source": [
    "from ipynb.fs.full.store import Store\n",
    "\n",
    "\n",
    "class Restaurant(Store):\n",
    "    totalPersons = 0\n",
    "    maxOccup = 50\n",
    "    currentOccup = 0\n",
    "    pricePerPerson = 9.99\n",
    "\n",
    "    def __init__(self, name, address, status, tax, totalPersons, maxOccup, currentOccup, pricePerPerson):\n",
    "        self.totalPersons = totalPersons\n",
    "        self.maxOccup = maxOccup\n",
    "        self.currentOccup = currentOccup\n",
    "        self.pricePerPerson = pricePerPerson\n",
    "\n",
    "        Store.__init__(self, name, address, status, tax)\n",
    "\n",
    "    def seatPatrons(self, numPersonsToBeSeated):\n",
    "\n",
    "        self.currentOccup += numPersonsToBeSeated\n",
    "        self.totalPersons += numPersonsToBeSeated\n",
    "        if numPersonsToBeSeated < self.maxOccup:\n",
    "            print(\"Welcome to \", self.name)\n",
    "            return True\n",
    "        else:\n",
    "            self.currentOccup = 100\n",
    "            print(\"We are at capacity, we appreciate your patience\")\n",
    "            return False\n",
    "\n",
    "    def servePatrons(self, numPepToServe):\n",
    "        return numPepToServe\n",
    "\n",
    "    def checkoutPatrons(self, numPepLeaving):\n",
    "        self.totalPersons -= numPepLeaving\n",
    "        self.currentOccup -= numPepLeaving\n",
    "        return self.currentOccup\n",
    "\n",
    "    def getPricePerPerson(self):\n",
    "        return self.pricePerPerson\n",
    "\n",
    "    def setPricePerPerson(self, pricePerPerson):\n",
    "        self.pricePerPerson = pricePerPerson\n",
    "\n",
    "    def calcaulateSalesTax(self):\n",
    "        return self.pricePerPerson * self.tax\n",
    "\n",
    "    def calculateTotalSales(self):\n",
    "        return self.calcaulateSalesTax() + self.pricePerPerson\n"
   ]
  },
  {
   "cell_type": "code",
   "execution_count": null,
   "id": "55092d0d",
   "metadata": {},
   "outputs": [],
   "source": []
  }
 ],
 "metadata": {
  "kernelspec": {
   "display_name": "Python 3 (ipykernel)",
   "language": "python",
   "name": "python3"
  },
  "language_info": {
   "codemirror_mode": {
    "name": "ipython",
    "version": 3
   },
   "file_extension": ".py",
   "mimetype": "text/x-python",
   "name": "python",
   "nbconvert_exporter": "python",
   "pygments_lexer": "ipython3",
   "version": "3.9.13"
  }
 },
 "nbformat": 4,
 "nbformat_minor": 5
}
