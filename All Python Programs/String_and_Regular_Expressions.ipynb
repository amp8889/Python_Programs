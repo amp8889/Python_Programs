{
 "cells": [
  {
   "cell_type": "code",
   "execution_count": 21,
   "id": "56b04408",
   "metadata": {},
   "outputs": [
    {
     "name": "stdout",
     "output_type": "stream",
     "text": [
      "Enter File PathC:\\Users\\Aidan\\Desktop\\basicInfo.txt\n",
      "dn: uid=apavlik, dc=iit, dc=edu\n",
      "cn: Aidan Pavlik\n",
      "sn: Pavlik\n",
      "telephoneNumber: 1234567890\n",
      "\n",
      "dn: uid=Vfasano, dc=gmail, dc=com\n",
      "cn: Enzo Fasano\n",
      "sn: Fasano\n",
      "telephoneNumber: 6535797323\n",
      "\n",
      "dn: uid=gabeJohnson, dc=yahoo, dc=net\n",
      "cn: Gabe Johnson\n",
      "sn: Johnson\n",
      "telephoneNumber: 5675410645\n",
      "\n",
      "dn: uid=ckammes, dc=iit, dc=edu\n",
      "cn: Calvin Kammess\n",
      "sn: Kammess\n",
      "telephoneNumber: 4322234094\n",
      "\n",
      "dn: uid=jakeNorbie, dc=gmail, dc=com\n",
      "cn: Jake Norbie\n",
      "sn: Norbie\n",
      "telephoneNumber: 5671243678\n",
      "\n"
     ]
    }
   ],
   "source": [
    "import os\n",
    "\n",
    "filename = input(\"Enter File Path\").strip()\n",
    "yCords = []\n",
    "xCords = []\n",
    "\n",
    "\n",
    "\n",
    "if os.path.isfile(filename):\n",
    "    infile = open(filename, \"r\")\n",
    "\n",
    "    line = infile.readline()\n",
    "    while line != \"\" :\n",
    "        splitLine = line.split(\":\")\n",
    "        splitLine2 = splitLine[0].split(\"@\")\n",
    "        splitLine3 = splitLine2[1].split(\".\")\n",
    "        line = infile.readline()\n",
    "        \n",
    "        print(\"dn: uid=\" + splitLine2[0] + \", dc=\" + splitLine3[0] +\", dc=\" + splitLine3[1] + \"\\ncn: \" + splitLine[1] + \" \" + splitLine[2] + \"\\nsn: \" + splitLine[2] + \"\\ntelephoneNumber: \" + splitLine[3])\n",
    "        \n",
    "\n",
    "        \n",
    "       \n",
    "        \n",
    "else:\n",
    "    print(\"Failed to open File!\")\n",
    "\n"
   ]
  },
  {
   "cell_type": "code",
   "execution_count": 34,
   "id": "5ff658b0",
   "metadata": {},
   "outputs": [
    {
     "name": "stdout",
     "output_type": "stream",
     "text": [
      "Please enter your phone number: 12345678900\n",
      "Invalid Phone Number\n"
     ]
    }
   ],
   "source": [
    "import os\n",
    "\n",
    "\n",
    "numberEntered = input(\"Please enter your phone number: \")\n",
    "\n",
    "\n",
    "\n",
    "\n",
    "numberEntered = numberEntered.replace(\"-\", \"\")\n",
    "numberEntered = numberEntered.replace(\" \", \"\")\n",
    "numberEntered = numberEntered.replace(\"(\", \"\")\n",
    "numberEntered = numberEntered.replace(\")\", \"\")\n",
    "numberEntered = numberEntered.replace(\"+\", \"\")\n",
    "numberEntered = numberEntered.replace(\"=\", \"\")\n",
    "\n",
    "\n",
    "\n",
    "\n",
    "if len(numberEntered) != 10:\n",
    "    print(\"Invalid Phone Number\")\n",
    "    \n",
    "else:\n",
    "    numberEntered = numberEntered[:0] + \"(\" + numberEntered[0:]\n",
    "    numberEntered = numberEntered[:4] + \") \" + numberEntered[4:]\n",
    "    numberEntered = numberEntered[:9] + \" \" + numberEntered[9:]\n",
    "\n",
    "    \n",
    "    \n",
    "    print(numberEntered)\n",
    "\n",
    "\n",
    "\n",
    "\n",
    "\n"
   ]
  },
  {
   "cell_type": "code",
   "execution_count": null,
   "id": "0071d09b",
   "metadata": {},
   "outputs": [],
   "source": []
  },
  {
   "cell_type": "code",
   "execution_count": null,
   "id": "99144725",
   "metadata": {},
   "outputs": [],
   "source": []
  }
 ],
 "metadata": {
  "kernelspec": {
   "display_name": "Python 3 (ipykernel)",
   "language": "python",
   "name": "python3"
  },
  "language_info": {
   "codemirror_mode": {
    "name": "ipython",
    "version": 3
   },
   "file_extension": ".py",
   "mimetype": "text/x-python",
   "name": "python",
   "nbconvert_exporter": "python",
   "pygments_lexer": "ipython3",
   "version": "3.9.13"
  }
 },
 "nbformat": 4,
 "nbformat_minor": 5
}
