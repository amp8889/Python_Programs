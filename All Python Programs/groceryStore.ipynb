{
 "cells": [
  {
   "cell_type": "code",
   "execution_count": 1,
   "id": "59166b17",
   "metadata": {},
   "outputs": [],
   "source": [
    "from ipynb.fs.full.store import Store\n",
    "\n",
    "\n",
    "class GroceryStore(Store):\n",
    "\n",
    "    totalRevanue = 100\n",
    "    type = \"chain\"\n",
    "\n",
    "\n",
    "    def __init__(self, name, address, status, tax, totalRevenue, type):\n",
    "        self.totalRevenue = totalRevenue\n",
    "        self.type = type\n",
    "\n",
    "        Store.__init__(self, name, address, status, tax)\n",
    "\n",
    "    def sellItem(self, quantity, price):\n",
    "        self.totalRevenue += (price * quantity)\n",
    "        return self.totalRevenue\n",
    "\n",
    "\n",
    "    def calcaulateSalesTax(self):\n",
    "        return self.totalRevenue * self.tax\n",
    "\n",
    "    def calculateTotalSales(self):\n",
    "        return self.calcaulateSalesTax() + self.totalRevenue"
   ]
  },
  {
   "cell_type": "code",
   "execution_count": null,
   "id": "3e10f81a",
   "metadata": {},
   "outputs": [],
   "source": []
  }
 ],
 "metadata": {
  "kernelspec": {
   "display_name": "Python 3 (ipykernel)",
   "language": "python",
   "name": "python3"
  },
  "language_info": {
   "codemirror_mode": {
    "name": "ipython",
    "version": 3
   },
   "file_extension": ".py",
   "mimetype": "text/x-python",
   "name": "python",
   "nbconvert_exporter": "python",
   "pygments_lexer": "ipython3",
   "version": "3.9.13"
  }
 },
 "nbformat": 4,
 "nbformat_minor": 5
}
