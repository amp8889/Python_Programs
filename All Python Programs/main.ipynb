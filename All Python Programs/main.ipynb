{
 "cells": [
  {
   "cell_type": "code",
   "execution_count": null,
   "id": "813bcc7b",
   "metadata": {},
   "outputs": [],
   "source": [
    "from ipynb.fs.full.FunctionFile import *\n",
    "\n",
    "list = []\n",
    "\n",
    "addItemsToList(list)\n",
    "\n",
    "calTotals(list)\n"
   ]
  },
  {
   "cell_type": "code",
   "execution_count": 1,
   "id": "46725adc",
   "metadata": {},
   "outputs": [
    {
     "name": "stdout",
     "output_type": "stream",
     "text": [
      "Enter a number: 1\n",
      "Enter a number: 2\n",
      "Enter a number: 3\n",
      "Enter a number: 4\n",
      "Enter a number: 5\n",
      "Enter a number: 6\n",
      "Enter a number: 7\n",
      "Enter a number: 8\n",
      "Enter a number: 9\n",
      "[1.0, 2.0, 3.0]\n",
      "[4.0, 5.0, 6.0]\n",
      "[7.0, 8.0, 9.0]\n",
      "Enter a number: 0\n",
      "Enter a number: 2.0\n",
      "Enter a number: 4.0\n",
      "Enter a number: 1\n",
      "Enter a number: 4.5\n",
      "Enter a number: 2.2\n",
      "Enter a number: 1.1\n",
      "Enter a number: 4.3\n",
      "Enter a number: 5.2\n",
      "[0.0, 2.0, 4.0]\n",
      "[1.0, 4.5, 2.2]\n",
      "[1.1, 4.3, 5.2]\n",
      "[5.3, 23.9, 24.0]\n",
      "[11.6, 56.3, 58.2]\n",
      "[17.9, 88.7, 92.4]\n"
     ]
    }
   ],
   "source": [
    "from ipynb.fs.full.FunctionFile import *\n",
    "\n",
    "\n",
    "mat1 = []\n",
    "mat2 = []\n",
    "\n",
    "\n",
    "for i in range(3):\n",
    "    a = []\n",
    "    for j in range(3):\n",
    "        a.append(float(eval(input(\"Enter a number: \"))))\n",
    "    mat1.append(a)\n",
    "\n",
    "for i in mat1:\n",
    "    print(i)\n",
    "\n",
    "\n",
    "for i in range(3):\n",
    "    a = []\n",
    "    for j in range(3):\n",
    "        a.append(float(eval(input(\"Enter a number: \"))))\n",
    "    mat2.append(a)\n",
    "\n",
    "for i in mat2:\n",
    "    print(i)\n",
    "        \n",
    "\n",
    "multiplyMatrix(mat1, mat2)\n",
    "        \n",
    "        \n",
    "        \n",
    "        \n",
    "\n",
    "\n"
   ]
  },
  {
   "cell_type": "code",
   "execution_count": null,
   "id": "969ecfaf",
   "metadata": {},
   "outputs": [],
   "source": []
  },
  {
   "cell_type": "code",
   "execution_count": null,
   "id": "c3063b89",
   "metadata": {},
   "outputs": [],
   "source": []
  }
 ],
 "metadata": {
  "kernelspec": {
   "display_name": "Python 3 (ipykernel)",
   "language": "python",
   "name": "python3"
  },
  "language_info": {
   "codemirror_mode": {
    "name": "ipython",
    "version": 3
   },
   "file_extension": ".py",
   "mimetype": "text/x-python",
   "name": "python",
   "nbconvert_exporter": "python",
   "pygments_lexer": "ipython3",
   "version": "3.9.13"
  }
 },
 "nbformat": 4,
 "nbformat_minor": 5
}
