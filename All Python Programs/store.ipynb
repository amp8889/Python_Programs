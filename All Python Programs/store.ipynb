{
 "cells": [
  {
   "cell_type": "code",
   "execution_count": 2,
   "id": "a04b4790",
   "metadata": {},
   "outputs": [],
   "source": [
    "from abc import abstractmethod\n",
    "\n",
    "\n",
    "class Store(object):\n",
    "    name = \"Target\"\n",
    "    address = \"1600 Pennsylvania Avenue NW, Washington, DC 20500\"\n",
    "    status = True\n",
    "    tax = 0.2\n",
    "\n",
    "    def __init__(self):\n",
    "        pass\n",
    "\n",
    "    def __init__(self, name, address, status, tax):\n",
    "        self.name = name\n",
    "        self.address = address\n",
    "        self.status = status\n",
    "        self.tax = tax\n",
    "\n",
    "    def getName(self):\n",
    "        return self.name\n",
    "\n",
    "    def getAddress(self):\n",
    "        return self.address\n",
    "\n",
    "    def getStatus(self):\n",
    "        return self.status\n",
    "\n",
    "    def getTax(self):\n",
    "        return self.tax\n",
    "\n",
    "    def setName(self, name):\n",
    "        self.name = name\n",
    "\n",
    "    def setAddress(self, address):\n",
    "        self.address = address\n",
    "\n",
    "    def setStatus(self, status):\n",
    "        self.status = status\n",
    "\n",
    "    def setTax(self, tax):\n",
    "        self.tax = tax\n",
    "\n",
    "    def isStoreOpen(self):\n",
    "        if self.status:\n",
    "            return True\n",
    "        else:\n",
    "            return False\n",
    "\n",
    "    @abstractmethod\n",
    "    def calcaulateSalesTax(self):\n",
    "        pass\n",
    "\n",
    "    @abstractmethod\n",
    "    def calculateTotalSales(self):\n",
    "        pass\n"
   ]
  },
  {
   "cell_type": "code",
   "execution_count": null,
   "id": "f524dffe",
   "metadata": {},
   "outputs": [],
   "source": []
  }
 ],
 "metadata": {
  "kernelspec": {
   "display_name": "Python 3 (ipykernel)",
   "language": "python",
   "name": "python3"
  },
  "language_info": {
   "codemirror_mode": {
    "name": "ipython",
    "version": 3
   },
   "file_extension": ".py",
   "mimetype": "text/x-python",
   "name": "python",
   "nbconvert_exporter": "python",
   "pygments_lexer": "ipython3",
   "version": "3.9.13"
  }
 },
 "nbformat": 4,
 "nbformat_minor": 5
}
