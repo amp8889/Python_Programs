{
 "cells": [
  {
   "cell_type": "code",
   "execution_count": 89,
   "id": "fff8a52b",
   "metadata": {},
   "outputs": [
    {
     "name": "stdout",
     "output_type": "stream",
     "text": [
      "[ 1  2  3  4  5  6  7  8  9 10 11 12 13 14 15]\n",
      "[[ 1  2  3  4  5]\n",
      " [ 6  7  8  9 10]\n",
      " [11 12 13 14 15]]\n",
      "\n",
      "\n",
      "Second Row:  [11 12 13 14 15]\n",
      "\n",
      "\n",
      "Fourth Column:  [ 5 10 15]\n",
      "\n",
      "\n",
      "rows 0 and 1: \n",
      " [[ 1  2  3  4  5]\n",
      " [ 6  7  8  9 10]]\n",
      "\n",
      "\n",
      "Colums 2-4: \n",
      ":  [[ 3  4  5]\n",
      " [ 8  9 10]\n",
      " [13 14 15]]\n",
      "\n",
      "\n",
      " element that is in row 1 and column 4:  10\n",
      "\n",
      "\n",
      "all elements from rows 1 and 2 that are in columns 0, 2 and 4: \n",
      " [[ 6  8 10]\n",
      " [11 13 15]]\n"
     ]
    }
   ],
   "source": [
    " #Aidan Pavlik\n",
    "    \n",
    "    import numpy as np\n",
    "\n",
    "\n",
    "arr = np.array([1,2,3,4,5,6,7,8,9,10,11,12,13,14,15])\n",
    "\n",
    "\n",
    "arr2 = np.reshape(arr, (3, -1))\n",
    "\n",
    "\n",
    "print (arr)\n",
    "print (arr2)\n",
    "print(\"\\n\")\n",
    "\n",
    "\n",
    "print(\"Second Row: \" , arr2[2])\n",
    "print(\"\\n\")\n",
    "\n",
    "print(\"Fourth Column: \" , arr2[:,4])\n",
    "print(\"\\n\")\n",
    "\n",
    "print (\"rows 0 and 1: \\n\", arr2[[0,1], :])\n",
    "print(\"\\n\")\n",
    "\n",
    "print(\"Colums 2-4: \\n: \", arr2[:,2:5])\n",
    "print(\"\\n\")\n",
    "\n",
    "print(\" element that is in row 1 and column 4: \", arr2[1,4])\n",
    "print(\"\\n\")\n",
    "\n",
    "print(\"all elements from rows 1 and 2 that are in columns 0, 2 and 4: \\n\", arr2[1:3, [0,2,4]])\n",
    "\n",
    "\n"
   ]
  },
  {
   "cell_type": "code",
   "execution_count": 116,
   "id": "2d86cad0",
   "metadata": {},
   "outputs": [
    {
     "name": "stdout",
     "output_type": "stream",
     "text": [
      "\n",
      "Display data\n",
      "[[  15.        50.        50.      ...  207.      1442.        94.1868 ]\n",
      " [  15.        50.        50.      ...  197.      1322.        86.34879]\n",
      " [  15.        50.        50.      ...  210.      1510.        98.62834]\n",
      " ...\n",
      " [  15.        50.        50.      ...  200.      1374.        89.74526]\n",
      " [  15.        50.        50.      ...  195.      1287.        84.0627 ]\n",
      " [  15.        50.        50.      ...  210.      1490.        97.32201]]\n",
      "There are  33  students\n",
      "\n",
      "Display numbers of rows and columns\n",
      "(33, 32)\n",
      "\n",
      "Display data type\n",
      "float64\n",
      "\n",
      "Min wine quality score: 29.65382\n",
      "Max score: 99.86936\n",
      "Average score: 87.66996787878789\n",
      "Median score: 92.88047\n",
      "Std. Dev.: 15.553686425410683\n",
      "Percentile (25%, 75%):  87.1979    96.73416\n",
      "21\n",
      "8\n",
      "1\n",
      "1\n",
      "2\n"
     ]
    },
    {
     "data": {
      "text/plain": [
       "<function matplotlib.pyplot.show(close=None, block=None)>"
      ]
     },
     "execution_count": 116,
     "metadata": {},
     "output_type": "execute_result"
    },
    {
     "data": {
      "image/png": "[encoded data removed]",
      "text/plain": [
       "<Figure size 640x480 with 1 Axes>"
      ]
     },
     "metadata": {},
     "output_type": "display_data"
    }
   ],
   "source": [
    "import csv\n",
    "import os\n",
    "import numpy as np\n",
    "import pandas as pd\n",
    "import statistics as st\n",
    "import matplotlib.pyplot as plt\n",
    "\n",
    "\n",
    "\n",
    "f = \"Student_Grades3.csv\"\n",
    "\n",
    "\n",
    "with open(f, 'r') as f:\n",
    "    grades = list(csv.reader(f, delimiter=','))\n",
    "    grades = np.array(grades[1:], dtype=float)\n",
    "\n",
    "\n",
    "print(\"\\nDisplay data\")\n",
    "print(grades)\n",
    "\n",
    "print(\"There are \", grades.shape[0], \" students\")\n",
    "\n",
    "print(\"\\nDisplay numbers of rows and columns\")\n",
    "print(grades.shape)\n",
    "print(\"\\nDisplay data type\")\n",
    "print(grades.dtype)\n",
    "\n",
    "\n",
    "\n",
    "print(\"\\nMin wine quality score:\", grades[:,-1].min())\n",
    "print(\"Max score:\", grades[:,-1].max())\n",
    "print(\"Average score:\", grades[:,-1].mean())\n",
    "\n",
    "print(\"Median score:\", st.median(grades[:,-1]))\n",
    "print(\"Std. Dev.:\", grades[:,-1].std())\n",
    "print(\"Percentile (25%, 75%): \", np.percentile(grades[:,-1], 25), \"  \", np.percentile(grades[:,-1], 75))\n",
    "\n",
    "\n",
    "\n",
    "aStudent = (grades[:,-1] >= 90.0)\n",
    "bStudent = np.any(grades[:,-1] >= 80.0) & (grades[:,-1] < 87.0)\n",
    "cStudent = np.any(grades[:,-1] >= 70.0) & (grades[:,-1] < 30.0)\n",
    "dStudent = np.any(grades[:,-1] >= 60.0) & (grades[:,-1] < 30.0)\n",
    "fStudent = grades[:,-1] < 60\n",
    "\n",
    "print(grades[aStudent,:].shape[0])\n",
    "print(grades[bStudent,:].shape[0])\n",
    "print(grades[cStudent,:].shape[0])\n",
    "print(grades[dStudent,:].shape[0])\n",
    "print(grades[fStudent,:].shape[0])\n",
    "\n",
    "labels = [\"A std\", \"B std\", \"C std\", \"D std\", \"F std\"]\n",
    "yCords = [grades[aStudent,:].shape[0],grades[bStudent,:].shape[0],grades[cStudent,:].shape[0],grades[dStudent,:].shape[0],grades[fStudent,:].shape[0]]\n",
    "\n",
    "\n",
    "plt.pie(yCords, labels=labels, autopct='%1.1f%%')\n",
    "plt.title(\"Student Performance Pie Chart\")\n",
    "plt.show\n",
    "\n"
   ]
  },
  {
   "cell_type": "code",
   "execution_count": null,
   "id": "f1089a51",
   "metadata": {},
   "outputs": [],
   "source": []
  }
 ],
 "metadata": {
  "kernelspec": {
   "display_name": "Python 3 (ipykernel)",
   "language": "python",
   "name": "python3"
  },
  "language_info": {
   "codemirror_mode": {
    "name": "ipython",
    "version": 3
   },
   "file_extension": ".py",
   "mimetype": "text/x-python",
   "name": "python",
   "nbconvert_exporter": "python",
   "pygments_lexer": "ipython3",
   "version": "3.9.13"
  }
 },
 "nbformat": 4,
 "nbformat_minor": 5
}
