{
 "cells": [
  {
   "cell_type": "code",
   "execution_count": 4,
   "id": "37b9078d",
   "metadata": {},
   "outputs": [
    {
     "name": "stdout",
     "output_type": "stream",
     "text": [
      "Name:  Jewel Osco \n",
      "Address:  8997 N. Cherry Hill St. Longwood, FL 32779 \n",
      "Status:  True \n",
      "Tax:  3.7 \n",
      "Total Revenue:  0 \n",
      "Type:  chain \n",
      "\n",
      "Updated Revenue:  79.96\n",
      "Updated Revenue:  135.94\n",
      "Updated Revenue:  359.94\n",
      "\n",
      "\n",
      "\n",
      "Name:  Connies \n",
      "Address:  582 Oklahoma Dr.Valley Stream, NY 11580 \n",
      "Status:  True \n",
      "Tax:  2.5 \n",
      "Total Persons:  7 \n",
      "Max Occupancy:  100 \n",
      "Current Occupancy:  7 \n",
      "Price Per Person:  19.99 \n",
      "\n",
      "Welcome to  Connies\n",
      "Updated Current Occupancy:  52 \n",
      "Updated Total Persons:  52 \n",
      "\n",
      "We are at capacity, we appreciate your patience\n",
      "Updated Current Occupancy:  100 \n",
      "Updated Total Persons:  173 \n",
      "\n",
      "Current number of people being served:  4\n",
      "\n",
      "Current Occupancy after people checked out:  70\n",
      "\n"
     ]
    }
   ],
   "source": [
    "from ipynb.fs.full.store import Store\n",
    "from ipynb.fs.full.restaurant import Restaurant\n",
    "from ipynb.fs.full.groceryStore import GroceryStore\n",
    "\n",
    "\n",
    "\n",
    "StoreOne = GroceryStore(\"Jewel Osco\", \"8997 N. Cherry Hill St. Longwood, FL 32779\", True, 3.7, 0, \"chain\")\n",
    "\n",
    "print(\"Name: \", StoreOne.name, \"\\nAddress: \", StoreOne.address, \"\\nStatus: \", StoreOne.status, \"\\nTax: \", StoreOne.tax, \"\\nTotal Revenue: \", StoreOne.totalRevenue, \"\\nType: \", StoreOne.type, \"\\n\")\n",
    "\n",
    "\n",
    "StoreOne.sellItem(4, 19.99)\n",
    "print(\"Updated Revenue: \", StoreOne.totalRevenue)\n",
    "StoreOne.sellItem(2, 27.99)\n",
    "print(\"Updated Revenue: \", StoreOne.totalRevenue)\n",
    "StoreOne.sellItem(4, 56.00)\n",
    "print(\"Updated Revenue: \", StoreOne.totalRevenue)\n",
    "print(\"\\n\\n\")\n",
    "\n",
    "\n",
    "\n",
    "\n",
    "\n",
    "\n",
    "\n",
    "\n",
    "\n",
    "\n",
    "RestaurantOne = Restaurant(\"Connies\", \"582 Oklahoma Dr.Valley Stream, NY 11580\", True, 2.5, 7, 100, 7, 19.99)\n",
    "\n",
    "print(\"Name: \", RestaurantOne.name, \"\\nAddress: \", RestaurantOne.address, \"\\nStatus: \", RestaurantOne.status, \"\\nTax: \", RestaurantOne.tax, \"\\nTotal Persons: \", RestaurantOne.totalPersons, \"\\nMax Occupancy: \", RestaurantOne.maxOccup, \"\\nCurrent Occupancy: \", RestaurantOne.currentOccup, \"\\nPrice Per Person: \", RestaurantOne.pricePerPerson, \"\\n\")\n",
    "\n",
    "RestaurantOne.seatPatrons(45)\n",
    "print(\"Updated Current Occupancy: \", RestaurantOne.currentOccup, \"\\nUpdated Total Persons: \", RestaurantOne.totalPersons, \"\\n\")\n",
    "\n",
    "RestaurantOne.seatPatrons(121)\n",
    "print(\"Updated Current Occupancy: \", RestaurantOne.currentOccup, \"\\nUpdated Total Persons: \", RestaurantOne.totalPersons, \"\\n\")\n",
    "\n",
    "print(\"Current number of people being served: \", RestaurantOne.servePatrons(4))\n",
    "print(\"\")\n",
    "\n",
    "print(\"Current Occupancy after people checked out: \", RestaurantOne.checkoutPatrons(30))\n",
    "print(\"\")\n"
   ]
  },
  {
   "cell_type": "code",
   "execution_count": null,
   "id": "b6146b2c",
   "metadata": {},
   "outputs": [],
   "source": []
  },
  {
   "cell_type": "code",
   "execution_count": null,
   "id": "bc7a661b",
   "metadata": {},
   "outputs": [],
   "source": []
  }
 ],
 "metadata": {
  "kernelspec": {
   "display_name": "Python 3 (ipykernel)",
   "language": "python",
   "name": "python3"
  },
  "language_info": {
   "codemirror_mode": {
    "name": "ipython",
    "version": 3
   },
   "file_extension": ".py",
   "mimetype": "text/x-python",
   "name": "python",
   "nbconvert_exporter": "python",
   "pygments_lexer": "ipython3",
   "version": "3.9.13"
  }
 },
 "nbformat": 4,
 "nbformat_minor": 5
}
